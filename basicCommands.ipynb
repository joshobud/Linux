{
    "metadata": {
        "kernelspec": {
            "name": "powershell",
            "display_name": "PowerShell"
        },
        "language_info": {
            "name": "powershell",
            "codemirror_mode": "shell",
            "mimetype": "text/x-sh",
            "file_extension": ".ps1"
        }
    },
    "nbformat_minor": 2,
    "nbformat": 4,
    "cells": [
        {
            "cell_type": "markdown",
            "source": [
                "### Command to run in admin mode (avoid typing \"sudo\" prior to every command)"
            ],
            "metadata": {
                "azdata_cell_guid": "31b55edb-b454-4451-bce9-2dc9c64ec8c4"
            }
        },
        {
            "cell_type": "code",
            "source": [
                "sudo su"
            ],
            "metadata": {
                "azdata_cell_guid": "36d2d197-adf5-4ac9-a050-9604a2b31278"
            },
            "outputs": [
                {
                    "name": "stdout",
                    "text": "sudo : The term 'sudo' is not recognized as the name of a cmdlet, function, script file, or operable program. Check \nthe spelling of the name, or if a path was included, verify that the path is correct and try again.\nAt line:2 char:1\n+ sudo docker exec -it 192.168.1.63 \"bash\"\n+ ~~~~\n    + CategoryInfo          : ObjectNotFound: (sudo:String) [], CommandNotFoundException\n    + FullyQualifiedErrorId : CommandNotFoundException\n \n",
                    "output_type": "stream"
                }
            ],
            "execution_count": 2
        }
    ]
}